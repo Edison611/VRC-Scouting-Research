{
 "cells": [
  {
   "cell_type": "code",
   "execution_count": 35,
   "id": "b301d28d-4e82-4b31-8177-47b317ab893a",
   "metadata": {},
   "outputs": [],
   "source": [
    "import pandas as pd\n",
    "import numpy as np\n",
    "import matplotlib.pyplot as plt\n",
    "from scipy import stats"
   ]
  },
  {
   "cell_type": "code",
   "execution_count": 38,
   "id": "0d52fcbf-8426-4376-b1ae-a70ce6c35053",
   "metadata": {},
   "outputs": [],
   "source": [
    "df = pd.read_excel('./AllData.xlsx')\n",
    "df = df.dropna()"
   ]
  },
  {
   "cell_type": "code",
   "execution_count": 39,
   "id": "5498ad91-2527-47be-af93-d7129f658408",
   "metadata": {},
   "outputs": [
    {
     "data": {
      "text/html": [
       "<div>\n",
       "<style scoped>\n",
       "    .dataframe tbody tr th:only-of-type {\n",
       "        vertical-align: middle;\n",
       "    }\n",
       "\n",
       "    .dataframe tbody tr th {\n",
       "        vertical-align: top;\n",
       "    }\n",
       "\n",
       "    .dataframe thead th {\n",
       "        text-align: right;\n",
       "    }\n",
       "</style>\n",
       "<table border=\"1\" class=\"dataframe\">\n",
       "  <thead>\n",
       "    <tr style=\"text-align: right;\">\n",
       "      <th></th>\n",
       "      <th>tsRanking</th>\n",
       "      <th>rankingChange</th>\n",
       "      <th>teamLink</th>\n",
       "      <th>teamNumber</th>\n",
       "      <th>teamName</th>\n",
       "      <th>locRegion</th>\n",
       "      <th>locCountry</th>\n",
       "      <th>trueskill</th>\n",
       "      <th>ccwm</th>\n",
       "      <th>totalWins</th>\n",
       "      <th>totalLosses</th>\n",
       "      <th>totalTies</th>\n",
       "    </tr>\n",
       "  </thead>\n",
       "  <tbody>\n",
       "    <tr>\n",
       "      <th>0</th>\n",
       "      <td>1</td>\n",
       "      <td>0.0</td>\n",
       "      <td>[229V](/team/229V)</td>\n",
       "      <td>229V</td>\n",
       "      <td>ACE Robotics</td>\n",
       "      <td>Florida</td>\n",
       "      <td>United States</td>\n",
       "      <td>30.2</td>\n",
       "      <td>62.6</td>\n",
       "      <td>103.0</td>\n",
       "      <td>5.0</td>\n",
       "      <td>0.0</td>\n",
       "    </tr>\n",
       "    <tr>\n",
       "      <th>1</th>\n",
       "      <td>2</td>\n",
       "      <td>0.0</td>\n",
       "      <td>[2654P](/team/2654P)</td>\n",
       "      <td>2654P</td>\n",
       "      <td>Pronounce This</td>\n",
       "      <td>Colorado</td>\n",
       "      <td>United States</td>\n",
       "      <td>29.0</td>\n",
       "      <td>51.2</td>\n",
       "      <td>66.0</td>\n",
       "      <td>8.0</td>\n",
       "      <td>0.0</td>\n",
       "    </tr>\n",
       "    <tr>\n",
       "      <th>2</th>\n",
       "      <td>3</td>\n",
       "      <td>1.0</td>\n",
       "      <td>[8110R](/team/8110R)</td>\n",
       "      <td>8110R</td>\n",
       "      <td>Top Gear</td>\n",
       "      <td>Minnesota</td>\n",
       "      <td>United States</td>\n",
       "      <td>28.5</td>\n",
       "      <td>52.6</td>\n",
       "      <td>64.0</td>\n",
       "      <td>4.0</td>\n",
       "      <td>0.0</td>\n",
       "    </tr>\n",
       "    <tr>\n",
       "      <th>3</th>\n",
       "      <td>4</td>\n",
       "      <td>-1.0</td>\n",
       "      <td>[2011A](/team/2011A)</td>\n",
       "      <td>2011A</td>\n",
       "      <td>Asymmetrical</td>\n",
       "      <td>Ohio</td>\n",
       "      <td>United States</td>\n",
       "      <td>28.2</td>\n",
       "      <td>41.3</td>\n",
       "      <td>123.0</td>\n",
       "      <td>13.0</td>\n",
       "      <td>1.0</td>\n",
       "    </tr>\n",
       "    <tr>\n",
       "      <th>4</th>\n",
       "      <td>5</td>\n",
       "      <td>2.0</td>\n",
       "      <td>[5203G](/team/5203G)</td>\n",
       "      <td>5203G</td>\n",
       "      <td>Gremlin</td>\n",
       "      <td>Georgia</td>\n",
       "      <td>United States</td>\n",
       "      <td>27.9</td>\n",
       "      <td>44.8</td>\n",
       "      <td>86.0</td>\n",
       "      <td>9.0</td>\n",
       "      <td>0.0</td>\n",
       "    </tr>\n",
       "  </tbody>\n",
       "</table>\n",
       "</div>"
      ],
      "text/plain": [
       "   tsRanking  rankingChange              teamLink teamNumber        teamName  \\\n",
       "0          1            0.0    [229V](/team/229V)       229V    ACE Robotics   \n",
       "1          2            0.0  [2654P](/team/2654P)      2654P  Pronounce This   \n",
       "2          3            1.0  [8110R](/team/8110R)      8110R        Top Gear   \n",
       "3          4           -1.0  [2011A](/team/2011A)      2011A    Asymmetrical   \n",
       "4          5            2.0  [5203G](/team/5203G)      5203G         Gremlin   \n",
       "\n",
       "   locRegion     locCountry  trueskill  ccwm  totalWins  totalLosses  \\\n",
       "0    Florida  United States       30.2  62.6      103.0          5.0   \n",
       "1   Colorado  United States       29.0  51.2       66.0          8.0   \n",
       "2  Minnesota  United States       28.5  52.6       64.0          4.0   \n",
       "3       Ohio  United States       28.2  41.3      123.0         13.0   \n",
       "4    Georgia  United States       27.9  44.8       86.0          9.0   \n",
       "\n",
       "   totalTies  \n",
       "0        0.0  \n",
       "1        0.0  \n",
       "2        0.0  \n",
       "3        1.0  \n",
       "4        0.0  "
      ]
     },
     "execution_count": 39,
     "metadata": {},
     "output_type": "execute_result"
    }
   ],
   "source": [
    "df.head()"
   ]
  },
  {
   "cell_type": "code",
   "execution_count": 42,
   "id": "b11dfdf3-8c2d-440e-97ff-784dd4f15e31",
   "metadata": {},
   "outputs": [],
   "source": [
    "x = list(df['ccwm'])\n",
    "y = list(df['trueskill'])"
   ]
  },
  {
   "cell_type": "code",
   "execution_count": 43,
   "id": "a596f115-fedd-4efc-a423-8216131ddc21",
   "metadata": {},
   "outputs": [
    {
     "name": "stdout",
     "output_type": "stream",
     "text": [
      "0.1429440416199552\n",
      "0.6443450279993712\n"
     ]
    },
    {
     "data": {
      "image/png": "[encoded data removed]",
      "text/plain": [
       "<Figure size 640x480 with 1 Axes>"
      ]
     },
     "metadata": {},
     "output_type": "display_data"
    }
   ],
   "source": [
    "slope, intercept, r, p, std_err = stats.linregress(x, y)\n",
    "\n",
    "def myfunc(x):\n",
    "  return slope * x + intercept\n",
    "\n",
    "mymodel = list(map(myfunc, x))\n",
    "\n",
    "print(slope)\n",
    "print(r)\n",
    "plt.scatter(x, y)\n",
    "plt.plot(x, mymodel)\n",
    "plt.show()"
   ]
  },
  {
   "cell_type": "code",
   "execution_count": null,
   "id": "6974e1a5-269a-46c2-8aeb-9dd88191946a",
   "metadata": {},
   "outputs": [],
   "source": []
  }
 ],
 "metadata": {
  "kernelspec": {
   "display_name": "Python 3 (ipykernel)",
   "language": "python",
   "name": "python3"
  },
  "language_info": {
   "codemirror_mode": {
    "name": "ipython",
    "version": 3
   },
   "file_extension": ".py",
   "mimetype": "text/x-python",
   "name": "python",
   "nbconvert_exporter": "python",
   "pygments_lexer": "ipython3",
   "version": "3.10.2"
  }
 },
 "nbformat": 4,
 "nbformat_minor": 5
}
