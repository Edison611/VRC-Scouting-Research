{
 "cells": [
  {
   "cell_type": "code",
   "execution_count": 1,
   "metadata": {},
   "outputs": [],
   "source": [
    "import pandas as pd\n",
    "import numpy as np\n",
    "from sklearn.model_selection import train_test_split\n",
    "from sklearn.linear_model import LogisticRegression\n",
    "from sklearn.linear_model import LinearRegression\n",
    "from sklearn.metrics import mean_squared_error, r2_score\n",
    "import matplotlib.pyplot as plt\n",
    "from sklearn.metrics import classification_report"
   ]
  },
  {
   "cell_type": "markdown",
   "metadata": {},
   "source": [
    "# Importing All Data"
   ]
  },
  {
   "cell_type": "code",
   "execution_count": 2,
   "metadata": {},
   "outputs": [],
   "source": [
    "team_df = pd.read_json('data/team_data.json')\n",
    "team_df = team_df.fillna(0)\n",
    "match_data = pd.read_json('data/match_data.json')\n"
   ]
  },
  {
   "cell_type": "markdown",
   "metadata": {},
   "source": [
    "# Formatting All Data"
   ]
  },
  {
   "cell_type": "code",
   "execution_count": 3,
   "metadata": {},
   "outputs": [
    {
     "name": "stdout",
     "output_type": "stream",
     "text": [
      "915 entries skipped\n"
     ]
    }
   ],
   "source": [
    "def extract_regression_features(team_stats, matches):\n",
    "    X = []  # Features\n",
    "    y = []  # Target variable (score difference)\n",
    "    y1 = []\n",
    "    skipped = 0\n",
    "\n",
    "    for match in matches:\n",
    "        blue_teams = match[\"alliances\"][0][\"teams\"]\n",
    "        red_teams = match[\"alliances\"][1][\"teams\"]\n",
    "\n",
    "        if len(blue_teams) != 2 or len(red_teams) != 2:\n",
    "            # print(f\"Skipping match because it does not have 2 teams on each alliance\")\n",
    "            skipped += 1\n",
    "            continue\n",
    "\n",
    "        if blue_teams[0][\"team\"][\"name\"] not in team_stats or red_teams[0][\"team\"][\"name\"] not in team_stats or blue_teams[1][\"team\"][\"name\"] not in team_stats or red_teams[1][\"team\"][\"name\"] not in team_stats: \n",
    "            # print(f\"Skipping match because a team is not in the team stats\")\n",
    "            skipped += 1\n",
    "            continue\n",
    "        \n",
    "        # Calculate aggregate stats for each alliance\n",
    "        blue_opr = sum(team_stats[team[\"team\"][\"name\"]][\"opr\"] for team in blue_teams)\n",
    "        blue_dpr = sum(team_stats[team[\"team\"][\"name\"]][\"dpr\"] for team in blue_teams)\n",
    "        blue_ccwm = sum(team_stats[team[\"team\"][\"name\"]][\"ccwm\"] for team in blue_teams)\n",
    "        blue_w_pct = sum(team_stats[team[\"team\"][\"name\"]][\"w_pct\"] for team in blue_teams)\n",
    "        blue_ap_per_match = sum(team_stats[team[\"team\"][\"name\"]][\"ap_per_match\"] for team in blue_teams)\n",
    "        blue_awp_per_match = sum(team_stats[team[\"team\"][\"name\"]][\"awp_per_match\"] for team in blue_teams)\n",
    "        blue_wp_per_match = sum(team_stats[team[\"team\"][\"name\"]][\"wp_per_match\"] for team in blue_teams)\n",
    "        blue_trueskill = sum(team_stats[team[\"team\"][\"name\"]][\"trueskill\"] for team in blue_teams)\n",
    "\n",
    "        red_opr = sum(team_stats[team[\"team\"][\"name\"]][\"opr\"] for team in red_teams)\n",
    "        red_dpr = sum(team_stats[team[\"team\"][\"name\"]][\"dpr\"] for team in red_teams)\n",
    "        red_ccwm = sum(team_stats[team[\"team\"][\"name\"]][\"ccwm\"] for team in red_teams)\n",
    "        red_w_pct = sum(team_stats[team[\"team\"][\"name\"]][\"w_pct\"] for team in red_teams)\n",
    "        red_ap_per_match = sum(team_stats[team[\"team\"][\"name\"]][\"ap_per_match\"] for team in red_teams)\n",
    "        red_awp_per_match = sum(team_stats[team[\"team\"][\"name\"]][\"awp_per_match\"] for team in red_teams)\n",
    "        red_wp_per_match = sum(team_stats[team[\"team\"][\"name\"]][\"wp_per_match\"] for team in red_teams)\n",
    "        red_trueskill = sum(team_stats[team[\"team\"][\"name\"]][\"trueskill\"] for team in red_teams)\n",
    "\n",
    "        # Feature vector for this match\n",
    "        features = [\n",
    "            blue_opr, blue_dpr, blue_ccwm, blue_w_pct, blue_ap_per_match, blue_awp_per_match, blue_wp_per_match, blue_trueskill,\n",
    "            red_opr, red_dpr, red_ccwm, red_w_pct, red_ap_per_match, red_awp_per_match, red_wp_per_match, red_trueskill\n",
    "        ]\n",
    "        \n",
    "        X.append(features)\n",
    "        \n",
    "        # Calculate the score difference (blue - red)\n",
    "        blue_score = match[\"alliances\"][0][\"score\"]\n",
    "        red_score = match[\"alliances\"][1][\"score\"]\n",
    "        if blue_score > red_score:\n",
    "            y.append(1)\n",
    "        else:\n",
    "            y.append(0)\n",
    "        y1.append(blue_score - red_score) # For Neural Network\n",
    "    print(f\"{skipped} entries skipped\")\n",
    "    return X, y, y1\n",
    "\n",
    "X, y, y_nn = extract_regression_features(team_df, match_data['matches'])\n"
   ]
  },
  {
   "cell_type": "markdown",
   "metadata": {},
   "source": [
    "# Training the Dataset\n",
    "\n",
    "## Logistic Regression"
   ]
  },
  {
   "cell_type": "code",
   "execution_count": 4,
   "metadata": {},
   "outputs": [
    {
     "data": {
      "text/html": [
       "<style>#sk-container-id-1 {color: black;background-color: white;}#sk-container-id-1 pre{padding: 0;}#sk-container-id-1 div.sk-toggleable {background-color: white;}#sk-container-id-1 label.sk-toggleable__label {cursor: pointer;display: block;width: 100%;margin-bottom: 0;padding: 0.3em;box-sizing: border-box;text-align: center;}#sk-container-id-1 label.sk-toggleable__label-arrow:before {content: \"▸\";float: left;margin-right: 0.25em;color: #696969;}#sk-container-id-1 label.sk-toggleable__label-arrow:hover:before {color: black;}#sk-container-id-1 div.sk-estimator:hover label.sk-toggleable__label-arrow:before {color: black;}#sk-container-id-1 div.sk-toggleable__content {max-height: 0;max-width: 0;overflow: hidden;text-align: left;background-color: #f0f8ff;}#sk-container-id-1 div.sk-toggleable__content pre {margin: 0.2em;color: black;border-radius: 0.25em;background-color: #f0f8ff;}#sk-container-id-1 input.sk-toggleable__control:checked~div.sk-toggleable__content {max-height: 200px;max-width: 100%;overflow: auto;}#sk-container-id-1 input.sk-toggleable__control:checked~label.sk-toggleable__label-arrow:before {content: \"▾\";}#sk-container-id-1 div.sk-estimator input.sk-toggleable__control:checked~label.sk-toggleable__label {background-color: #d4ebff;}#sk-container-id-1 div.sk-label input.sk-toggleable__control:checked~label.sk-toggleable__label {background-color: #d4ebff;}#sk-container-id-1 input.sk-hidden--visually {border: 0;clip: rect(1px 1px 1px 1px);clip: rect(1px, 1px, 1px, 1px);height: 1px;margin: -1px;overflow: hidden;padding: 0;position: absolute;width: 1px;}#sk-container-id-1 div.sk-estimator {font-family: monospace;background-color: #f0f8ff;border: 1px dotted black;border-radius: 0.25em;box-sizing: border-box;margin-bottom: 0.5em;}#sk-container-id-1 div.sk-estimator:hover {background-color: #d4ebff;}#sk-container-id-1 div.sk-parallel-item::after {content: \"\";width: 100%;border-bottom: 1px solid gray;flex-grow: 1;}#sk-container-id-1 div.sk-label:hover label.sk-toggleable__label {background-color: #d4ebff;}#sk-container-id-1 div.sk-serial::before {content: \"\";position: absolute;border-left: 1px solid gray;box-sizing: border-box;top: 0;bottom: 0;left: 50%;z-index: 0;}#sk-container-id-1 div.sk-serial {display: flex;flex-direction: column;align-items: center;background-color: white;padding-right: 0.2em;padding-left: 0.2em;position: relative;}#sk-container-id-1 div.sk-item {position: relative;z-index: 1;}#sk-container-id-1 div.sk-parallel {display: flex;align-items: stretch;justify-content: center;background-color: white;position: relative;}#sk-container-id-1 div.sk-item::before, #sk-container-id-1 div.sk-parallel-item::before {content: \"\";position: absolute;border-left: 1px solid gray;box-sizing: border-box;top: 0;bottom: 0;left: 50%;z-index: -1;}#sk-container-id-1 div.sk-parallel-item {display: flex;flex-direction: column;z-index: 1;position: relative;background-color: white;}#sk-container-id-1 div.sk-parallel-item:first-child::after {align-self: flex-end;width: 50%;}#sk-container-id-1 div.sk-parallel-item:last-child::after {align-self: flex-start;width: 50%;}#sk-container-id-1 div.sk-parallel-item:only-child::after {width: 0;}#sk-container-id-1 div.sk-dashed-wrapped {border: 1px dashed gray;margin: 0 0.4em 0.5em 0.4em;box-sizing: border-box;padding-bottom: 0.4em;background-color: white;}#sk-container-id-1 div.sk-label label {font-family: monospace;font-weight: bold;display: inline-block;line-height: 1.2em;}#sk-container-id-1 div.sk-label-container {text-align: center;}#sk-container-id-1 div.sk-container {/* jupyter's `normalize.less` sets `[hidden] { display: none; }` but bootstrap.min.css set `[hidden] { display: none !important; }` so we also need the `!important` here to be able to override the default hidden behavior on the sphinx rendered scikit-learn.org. See: https://github.com/scikit-learn/scikit-learn/issues/21755 */display: inline-block !important;position: relative;}#sk-container-id-1 div.sk-text-repr-fallback {display: none;}</style><div id=\"sk-container-id-1\" class=\"sk-top-container\"><div class=\"sk-text-repr-fallback\"><pre>LogisticRegression(max_iter=5000)</pre><b>In a Jupyter environment, please rerun this cell to show the HTML representation or trust the notebook. <br />On GitHub, the HTML representation is unable to render, please try loading this page with nbviewer.org.</b></div><div class=\"sk-container\" hidden><div class=\"sk-item\"><div class=\"sk-estimator sk-toggleable\"><input class=\"sk-toggleable__control sk-hidden--visually\" id=\"sk-estimator-id-1\" type=\"checkbox\" checked><label for=\"sk-estimator-id-1\" class=\"sk-toggleable__label sk-toggleable__label-arrow\">LogisticRegression</label><div class=\"sk-toggleable__content\"><pre>LogisticRegression(max_iter=5000)</pre></div></div></div></div></div>"
      ],
      "text/plain": [
       "LogisticRegression(max_iter=5000)"
      ]
     },
     "execution_count": 4,
     "metadata": {},
     "output_type": "execute_result"
    }
   ],
   "source": [
    "X_train, X_test, y_train, y_test = train_test_split(X, y, test_size=0.2, random_state=42)\n",
    "\n",
    "model = LogisticRegression(max_iter=5000)\n",
    "model.fit(X_train, y_train)"
   ]
  },
  {
   "cell_type": "code",
   "execution_count": 5,
   "metadata": {},
   "outputs": [
    {
     "name": "stdout",
     "output_type": "stream",
     "text": [
      "              precision    recall  f1-score   support\n",
      "\n",
      "           0       0.80      0.83      0.81     10941\n",
      "           1       0.77      0.74      0.75      8613\n",
      "\n",
      "    accuracy                           0.79     19554\n",
      "   macro avg       0.78      0.78      0.78     19554\n",
      "weighted avg       0.79      0.79      0.79     19554\n",
      "\n"
     ]
    }
   ],
   "source": [
    "# Predict on the test set\n",
    "y_pred = model.predict(X_test)\n",
    "\n",
    "print(classification_report(y_test, y_pred))\n"
   ]
  },
  {
   "cell_type": "markdown",
   "metadata": {},
   "source": [
    "## Neural Network Score Predictor"
   ]
  },
  {
   "cell_type": "code",
   "execution_count": 17,
   "metadata": {},
   "outputs": [],
   "source": [
    "X = np.array(X)\n",
    "y_nn = np.array(y_nn)\n",
    "X_train, X_val, y_train, y_val = train_test_split(X, y_nn, test_size=0.2, random_state=42)"
   ]
  },
  {
   "cell_type": "code",
   "execution_count": 18,
   "metadata": {},
   "outputs": [],
   "source": [
    "import tensorflow as tf\n",
    "from tensorflow.keras.models import Sequential\n",
    "from tensorflow.keras.layers import Dense\n",
    "\n",
    "# Initialize the model\n",
    "nn_model = Sequential()\n",
    "\n",
    "# print(\"X_val type:\", type(X_val))\n",
    "# print(\"X_val shape:\", X_val.shape)\n",
    "# print(\"X_val dtype:\", X_val.dtype)\n",
    "\n",
    "# print(\"y_val type:\", type(y_val))\n",
    "# print(\"y_val shape:\", y_val.shape)\n",
    "# print(\"y_val dtype:\", y_val.dtype)\n",
    "\n",
    "# # Check for NaN or infinite values\n",
    "# print(\"NaN in X_val:\", np.isnan(X_val).any())\n",
    "# print(\"NaN in y_val:\", np.isnan(y_val).any())\n",
    "# print(\"Inf in X_val:\", np.isinf(X_val).any())\n",
    "# print(\"Inf in y_val:\", np.isinf(y_val).any())\n",
    "\n",
    "# Add input layer and first hidden layer\n",
    "nn_model.add(Dense(64, activation='relu', input_shape=(X.shape[1],)))\n",
    "\n",
    "# Add more hidden layers as needed\n",
    "nn_model.add(Dense(32, activation='relu'))\n",
    "nn_model.add(Dense(16, activation='relu'))\n",
    "\n",
    "# Output layer for regression\n",
    "nn_model.add(Dense(1, activation='linear'))  # Linear activation for regression\n",
    "\n",
    "# Compile the model\n",
    "nn_model.compile(optimizer='adam', loss='mean_squared_error', metrics=['mean_absolute_error'])"
   ]
  },
  {
   "cell_type": "code",
   "execution_count": 19,
   "metadata": {},
   "outputs": [
    {
     "name": "stdout",
     "output_type": "stream",
     "text": [
      "Epoch 1/100\n",
      "\u001b[1m7822/7822\u001b[0m \u001b[32m━━━━━━━━━━━━━━━━━━━━\u001b[0m\u001b[37m\u001b[0m \u001b[1m20s\u001b[0m 2ms/step - loss: 1371.9496 - mean_absolute_error: 29.0726 - val_loss: 1328.8658 - val_mean_absolute_error: 28.7398\n",
      "Epoch 2/100\n",
      "\u001b[1m7822/7822\u001b[0m \u001b[32m━━━━━━━━━━━━━━━━━━━━\u001b[0m\u001b[37m\u001b[0m \u001b[1m19s\u001b[0m 2ms/step - loss: 1290.1652 - mean_absolute_error: 28.2034 - val_loss: 1320.8254 - val_mean_absolute_error: 28.6297\n",
      "Epoch 3/100\n",
      "\u001b[1m7822/7822\u001b[0m \u001b[32m━━━━━━━━━━━━━━━━━━━━\u001b[0m\u001b[37m\u001b[0m \u001b[1m18s\u001b[0m 2ms/step - loss: 1290.4941 - mean_absolute_error: 28.2302 - val_loss: 1296.7008 - val_mean_absolute_error: 28.3554\n",
      "Epoch 4/100\n",
      "\u001b[1m7822/7822\u001b[0m \u001b[32m━━━━━━━━━━━━━━━━━━━━\u001b[0m\u001b[37m\u001b[0m \u001b[1m18s\u001b[0m 2ms/step - loss: 1275.2634 - mean_absolute_error: 28.0376 - val_loss: 1284.7983 - val_mean_absolute_error: 28.2180\n",
      "Epoch 5/100\n",
      "\u001b[1m7822/7822\u001b[0m \u001b[32m━━━━━━━━━━━━━━━━━━━━\u001b[0m\u001b[37m\u001b[0m \u001b[1m15s\u001b[0m 2ms/step - loss: 1261.5514 - mean_absolute_error: 27.8887 - val_loss: 1315.8307 - val_mean_absolute_error: 28.5335\n",
      "Epoch 6/100\n",
      "\u001b[1m7822/7822\u001b[0m \u001b[32m━━━━━━━━━━━━━━━━━━━━\u001b[0m\u001b[37m\u001b[0m \u001b[1m19s\u001b[0m 2ms/step - loss: 1266.9935 - mean_absolute_error: 27.9119 - val_loss: 1291.9126 - val_mean_absolute_error: 28.2759\n",
      "Epoch 7/100\n",
      "\u001b[1m7822/7822\u001b[0m \u001b[32m━━━━━━━━━━━━━━━━━━━━\u001b[0m\u001b[37m\u001b[0m \u001b[1m16s\u001b[0m 2ms/step - loss: 1269.8435 - mean_absolute_error: 27.9663 - val_loss: 1282.1895 - val_mean_absolute_error: 28.1851\n",
      "Epoch 8/100\n",
      "\u001b[1m7822/7822\u001b[0m \u001b[32m━━━━━━━━━━━━━━━━━━━━\u001b[0m\u001b[37m\u001b[0m \u001b[1m16s\u001b[0m 2ms/step - loss: 1260.4021 - mean_absolute_error: 27.8556 - val_loss: 1335.6295 - val_mean_absolute_error: 28.7351\n",
      "Epoch 9/100\n",
      "\u001b[1m7822/7822\u001b[0m \u001b[32m━━━━━━━━━━━━━━━━━━━━\u001b[0m\u001b[37m\u001b[0m \u001b[1m18s\u001b[0m 2ms/step - loss: 1258.8997 - mean_absolute_error: 27.8757 - val_loss: 1296.0260 - val_mean_absolute_error: 28.3271\n",
      "Epoch 10/100\n",
      "\u001b[1m7822/7822\u001b[0m \u001b[32m━━━━━━━━━━━━━━━━━━━━\u001b[0m\u001b[37m\u001b[0m \u001b[1m15s\u001b[0m 2ms/step - loss: 1265.2771 - mean_absolute_error: 27.8703 - val_loss: 1280.8671 - val_mean_absolute_error: 28.1671\n",
      "Epoch 11/100\n",
      "\u001b[1m7822/7822\u001b[0m \u001b[32m━━━━━━━━━━━━━━━━━━━━\u001b[0m\u001b[37m\u001b[0m \u001b[1m18s\u001b[0m 2ms/step - loss: 1247.8790 - mean_absolute_error: 27.6565 - val_loss: 1277.7152 - val_mean_absolute_error: 28.1434\n",
      "Epoch 12/100\n",
      "\u001b[1m7822/7822\u001b[0m \u001b[32m━━━━━━━━━━━━━━━━━━━━\u001b[0m\u001b[37m\u001b[0m \u001b[1m16s\u001b[0m 2ms/step - loss: 1251.1309 - mean_absolute_error: 27.7329 - val_loss: 1282.7014 - val_mean_absolute_error: 28.1904\n",
      "Epoch 13/100\n",
      "\u001b[1m7822/7822\u001b[0m \u001b[32m━━━━━━━━━━━━━━━━━━━━\u001b[0m\u001b[37m\u001b[0m \u001b[1m18s\u001b[0m 2ms/step - loss: 1255.3909 - mean_absolute_error: 27.8293 - val_loss: 1298.4115 - val_mean_absolute_error: 28.3517\n",
      "Epoch 14/100\n",
      "\u001b[1m7822/7822\u001b[0m \u001b[32m━━━━━━━━━━━━━━━━━━━━\u001b[0m\u001b[37m\u001b[0m \u001b[1m18s\u001b[0m 2ms/step - loss: 1249.1476 - mean_absolute_error: 27.7343 - val_loss: 1276.6615 - val_mean_absolute_error: 28.0954\n",
      "Epoch 15/100\n",
      "\u001b[1m7822/7822\u001b[0m \u001b[32m━━━━━━━━━━━━━━━━━━━━\u001b[0m\u001b[37m\u001b[0m \u001b[1m18s\u001b[0m 2ms/step - loss: 1254.7916 - mean_absolute_error: 27.7857 - val_loss: 1291.7749 - val_mean_absolute_error: 28.2826\n",
      "Epoch 16/100\n",
      "\u001b[1m7822/7822\u001b[0m \u001b[32m━━━━━━━━━━━━━━━━━━━━\u001b[0m\u001b[37m\u001b[0m \u001b[1m16s\u001b[0m 2ms/step - loss: 1251.5413 - mean_absolute_error: 27.7050 - val_loss: 1282.8003 - val_mean_absolute_error: 28.1848\n",
      "Epoch 17/100\n",
      "\u001b[1m7822/7822\u001b[0m \u001b[32m━━━━━━━━━━━━━━━━━━━━\u001b[0m\u001b[37m\u001b[0m \u001b[1m18s\u001b[0m 2ms/step - loss: 1256.1940 - mean_absolute_error: 27.8185 - val_loss: 1285.6583 - val_mean_absolute_error: 28.2006\n",
      "Epoch 18/100\n",
      "\u001b[1m7822/7822\u001b[0m \u001b[32m━━━━━━━━━━━━━━━━━━━━\u001b[0m\u001b[37m\u001b[0m \u001b[1m17s\u001b[0m 2ms/step - loss: 1251.4285 - mean_absolute_error: 27.7429 - val_loss: 1284.7970 - val_mean_absolute_error: 28.1659\n",
      "Epoch 19/100\n",
      "\u001b[1m7822/7822\u001b[0m \u001b[32m━━━━━━━━━━━━━━━━━━━━\u001b[0m\u001b[37m\u001b[0m \u001b[1m19s\u001b[0m 2ms/step - loss: 1241.6140 - mean_absolute_error: 27.6672 - val_loss: 1281.1765 - val_mean_absolute_error: 28.1448\n",
      "Epoch 20/100\n",
      "\u001b[1m7822/7822\u001b[0m \u001b[32m━━━━━━━━━━━━━━━━━━━━\u001b[0m\u001b[37m\u001b[0m \u001b[1m17s\u001b[0m 2ms/step - loss: 1253.7996 - mean_absolute_error: 27.7490 - val_loss: 1299.9259 - val_mean_absolute_error: 28.3353\n",
      "Epoch 21/100\n",
      "\u001b[1m7822/7822\u001b[0m \u001b[32m━━━━━━━━━━━━━━━━━━━━\u001b[0m\u001b[37m\u001b[0m \u001b[1m16s\u001b[0m 2ms/step - loss: 1241.3093 - mean_absolute_error: 27.7060 - val_loss: 1280.1877 - val_mean_absolute_error: 28.1453\n",
      "Epoch 22/100\n",
      "\u001b[1m7822/7822\u001b[0m \u001b[32m━━━━━━━━━━━━━━━━━━━━\u001b[0m\u001b[37m\u001b[0m \u001b[1m16s\u001b[0m 2ms/step - loss: 1249.3047 - mean_absolute_error: 27.7655 - val_loss: 1278.5674 - val_mean_absolute_error: 28.1136\n",
      "Epoch 23/100\n",
      "\u001b[1m7822/7822\u001b[0m \u001b[32m━━━━━━━━━━━━━━━━━━━━\u001b[0m\u001b[37m\u001b[0m \u001b[1m16s\u001b[0m 2ms/step - loss: 1239.8345 - mean_absolute_error: 27.6385 - val_loss: 1278.7435 - val_mean_absolute_error: 28.1434\n",
      "Epoch 24/100\n",
      "\u001b[1m7822/7822\u001b[0m \u001b[32m━━━━━━━━━━━━━━━━━━━━\u001b[0m\u001b[37m\u001b[0m \u001b[1m19s\u001b[0m 2ms/step - loss: 1256.8109 - mean_absolute_error: 27.7770 - val_loss: 1290.1321 - val_mean_absolute_error: 28.2635\n",
      "Epoch 25/100\n",
      "\u001b[1m7822/7822\u001b[0m \u001b[32m━━━━━━━━━━━━━━━━━━━━\u001b[0m\u001b[37m\u001b[0m \u001b[1m16s\u001b[0m 2ms/step - loss: 1269.4672 - mean_absolute_error: 27.9025 - val_loss: 1281.4338 - val_mean_absolute_error: 28.1369\n",
      "Epoch 26/100\n",
      "\u001b[1m7822/7822\u001b[0m \u001b[32m━━━━━━━━━━━━━━━━━━━━\u001b[0m\u001b[37m\u001b[0m \u001b[1m19s\u001b[0m 2ms/step - loss: 1249.0393 - mean_absolute_error: 27.7602 - val_loss: 1274.4055 - val_mean_absolute_error: 28.0549\n",
      "Epoch 27/100\n",
      "\u001b[1m7822/7822\u001b[0m \u001b[32m━━━━━━━━━━━━━━━━━━━━\u001b[0m\u001b[37m\u001b[0m \u001b[1m16s\u001b[0m 2ms/step - loss: 1245.4344 - mean_absolute_error: 27.6776 - val_loss: 1278.0511 - val_mean_absolute_error: 28.1156\n",
      "Epoch 28/100\n",
      "\u001b[1m7822/7822\u001b[0m \u001b[32m━━━━━━━━━━━━━━━━━━━━\u001b[0m\u001b[37m\u001b[0m \u001b[1m19s\u001b[0m 2ms/step - loss: 1250.4795 - mean_absolute_error: 27.7673 - val_loss: 1275.5820 - val_mean_absolute_error: 28.0864\n",
      "Epoch 29/100\n",
      "\u001b[1m7822/7822\u001b[0m \u001b[32m━━━━━━━━━━━━━━━━━━━━\u001b[0m\u001b[37m\u001b[0m \u001b[1m16s\u001b[0m 2ms/step - loss: 1251.1820 - mean_absolute_error: 27.7029 - val_loss: 1284.0945 - val_mean_absolute_error: 28.1694\n",
      "Epoch 30/100\n",
      "\u001b[1m7822/7822\u001b[0m \u001b[32m━━━━━━━━━━━━━━━━━━━━\u001b[0m\u001b[37m\u001b[0m \u001b[1m19s\u001b[0m 2ms/step - loss: 1244.7255 - mean_absolute_error: 27.6881 - val_loss: 1279.8243 - val_mean_absolute_error: 28.1404\n",
      "Epoch 31/100\n",
      "\u001b[1m7822/7822\u001b[0m \u001b[32m━━━━━━━━━━━━━━━━━━━━\u001b[0m\u001b[37m\u001b[0m \u001b[1m16s\u001b[0m 2ms/step - loss: 1254.2235 - mean_absolute_error: 27.7310 - val_loss: 1280.0836 - val_mean_absolute_error: 28.1195\n",
      "Epoch 32/100\n",
      "\u001b[1m7822/7822\u001b[0m \u001b[32m━━━━━━━━━━━━━━━━━━━━\u001b[0m\u001b[37m\u001b[0m \u001b[1m17s\u001b[0m 2ms/step - loss: 1246.4735 - mean_absolute_error: 27.6922 - val_loss: 1284.2587 - val_mean_absolute_error: 28.1783\n",
      "Epoch 33/100\n",
      "\u001b[1m7822/7822\u001b[0m \u001b[32m━━━━━━━━━━━━━━━━━━━━\u001b[0m\u001b[37m\u001b[0m \u001b[1m17s\u001b[0m 2ms/step - loss: 1236.5454 - mean_absolute_error: 27.6074 - val_loss: 1274.9628 - val_mean_absolute_error: 28.0752\n",
      "Epoch 34/100\n",
      "\u001b[1m7822/7822\u001b[0m \u001b[32m━━━━━━━━━━━━━━━━━━━━\u001b[0m\u001b[37m\u001b[0m \u001b[1m17s\u001b[0m 2ms/step - loss: 1244.6946 - mean_absolute_error: 27.6676 - val_loss: 1277.6307 - val_mean_absolute_error: 28.0664\n",
      "Epoch 35/100\n",
      "\u001b[1m7822/7822\u001b[0m \u001b[32m━━━━━━━━━━━━━━━━━━━━\u001b[0m\u001b[37m\u001b[0m \u001b[1m18s\u001b[0m 2ms/step - loss: 1248.2594 - mean_absolute_error: 27.7123 - val_loss: 1285.0123 - val_mean_absolute_error: 28.1458\n",
      "Epoch 36/100\n",
      "\u001b[1m7822/7822\u001b[0m \u001b[32m━━━━━━━━━━━━━━━━━━━━\u001b[0m\u001b[37m\u001b[0m \u001b[1m17s\u001b[0m 2ms/step - loss: 1249.5050 - mean_absolute_error: 27.7055 - val_loss: 1273.6687 - val_mean_absolute_error: 28.0770\n",
      "Epoch 37/100\n",
      "\u001b[1m7822/7822\u001b[0m \u001b[32m━━━━━━━━━━━━━━━━━━━━\u001b[0m\u001b[37m\u001b[0m \u001b[1m18s\u001b[0m 2ms/step - loss: 1246.6118 - mean_absolute_error: 27.6564 - val_loss: 1325.0055 - val_mean_absolute_error: 28.5939\n",
      "Epoch 38/100\n",
      "\u001b[1m7822/7822\u001b[0m \u001b[32m━━━━━━━━━━━━━━━━━━━━\u001b[0m\u001b[37m\u001b[0m \u001b[1m17s\u001b[0m 2ms/step - loss: 1249.0089 - mean_absolute_error: 27.6941 - val_loss: 1270.8444 - val_mean_absolute_error: 28.0270\n",
      "Epoch 39/100\n",
      "\u001b[1m7822/7822\u001b[0m \u001b[32m━━━━━━━━━━━━━━━━━━━━\u001b[0m\u001b[37m\u001b[0m \u001b[1m16s\u001b[0m 2ms/step - loss: 1235.6743 - mean_absolute_error: 27.6035 - val_loss: 1289.2753 - val_mean_absolute_error: 28.2374\n",
      "Epoch 40/100\n",
      "\u001b[1m7822/7822\u001b[0m \u001b[32m━━━━━━━━━━━━━━━━━━━━\u001b[0m\u001b[37m\u001b[0m \u001b[1m17s\u001b[0m 2ms/step - loss: 1236.1448 - mean_absolute_error: 27.5215 - val_loss: 1300.1179 - val_mean_absolute_error: 28.3178\n",
      "Epoch 41/100\n",
      "\u001b[1m7822/7822\u001b[0m \u001b[32m━━━━━━━━━━━━━━━━━━━━\u001b[0m\u001b[37m\u001b[0m \u001b[1m19s\u001b[0m 2ms/step - loss: 1245.4230 - mean_absolute_error: 27.6741 - val_loss: 1274.3326 - val_mean_absolute_error: 28.0450\n",
      "Epoch 42/100\n",
      "\u001b[1m7822/7822\u001b[0m \u001b[32m━━━━━━━━━━━━━━━━━━━━\u001b[0m\u001b[37m\u001b[0m \u001b[1m17s\u001b[0m 2ms/step - loss: 1243.5010 - mean_absolute_error: 27.6401 - val_loss: 1266.9247 - val_mean_absolute_error: 27.9735\n",
      "Epoch 43/100\n",
      "\u001b[1m7822/7822\u001b[0m \u001b[32m━━━━━━━━━━━━━━━━━━━━\u001b[0m\u001b[37m\u001b[0m \u001b[1m18s\u001b[0m 2ms/step - loss: 1236.8513 - mean_absolute_error: 27.5926 - val_loss: 1275.6128 - val_mean_absolute_error: 28.0787\n",
      "Epoch 44/100\n",
      "\u001b[1m7822/7822\u001b[0m \u001b[32m━━━━━━━━━━━━━━━━━━━━\u001b[0m\u001b[37m\u001b[0m \u001b[1m17s\u001b[0m 2ms/step - loss: 1236.5967 - mean_absolute_error: 27.6123 - val_loss: 1282.1709 - val_mean_absolute_error: 28.1481\n",
      "Epoch 45/100\n",
      "\u001b[1m7822/7822\u001b[0m \u001b[32m━━━━━━━━━━━━━━━━━━━━\u001b[0m\u001b[37m\u001b[0m \u001b[1m16s\u001b[0m 2ms/step - loss: 1235.3533 - mean_absolute_error: 27.5577 - val_loss: 1267.6121 - val_mean_absolute_error: 27.9855\n",
      "Epoch 46/100\n",
      "\u001b[1m7822/7822\u001b[0m \u001b[32m━━━━━━━━━━━━━━━━━━━━\u001b[0m\u001b[37m\u001b[0m \u001b[1m19s\u001b[0m 2ms/step - loss: 1264.7900 - mean_absolute_error: 27.8577 - val_loss: 1271.8346 - val_mean_absolute_error: 28.0322\n",
      "Epoch 47/100\n",
      "\u001b[1m7822/7822\u001b[0m \u001b[32m━━━━━━━━━━━━━━━━━━━━\u001b[0m\u001b[37m\u001b[0m \u001b[1m17s\u001b[0m 2ms/step - loss: 1252.0238 - mean_absolute_error: 27.7466 - val_loss: 1282.4395 - val_mean_absolute_error: 28.1599\n",
      "Epoch 48/100\n",
      "\u001b[1m7822/7822\u001b[0m \u001b[32m━━━━━━━━━━━━━━━━━━━━\u001b[0m\u001b[37m\u001b[0m \u001b[1m19s\u001b[0m 2ms/step - loss: 1238.7893 - mean_absolute_error: 27.5683 - val_loss: 1271.7471 - val_mean_absolute_error: 28.0270\n",
      "Epoch 49/100\n",
      "\u001b[1m7822/7822\u001b[0m \u001b[32m━━━━━━━━━━━━━━━━━━━━\u001b[0m\u001b[37m\u001b[0m \u001b[1m16s\u001b[0m 2ms/step - loss: 1247.1793 - mean_absolute_error: 27.6699 - val_loss: 1275.4736 - val_mean_absolute_error: 28.0690\n",
      "Epoch 50/100\n",
      "\u001b[1m7822/7822\u001b[0m \u001b[32m━━━━━━━━━━━━━━━━━━━━\u001b[0m\u001b[37m\u001b[0m \u001b[1m19s\u001b[0m 2ms/step - loss: 1237.0225 - mean_absolute_error: 27.5032 - val_loss: 1269.0050 - val_mean_absolute_error: 27.9738\n",
      "Epoch 51/100\n",
      "\u001b[1m7822/7822\u001b[0m \u001b[32m━━━━━━━━━━━━━━━━━━━━\u001b[0m\u001b[37m\u001b[0m \u001b[1m16s\u001b[0m 2ms/step - loss: 1219.1611 - mean_absolute_error: 27.3241 - val_loss: 1267.3030 - val_mean_absolute_error: 27.9636\n",
      "Epoch 52/100\n",
      "\u001b[1m7822/7822\u001b[0m \u001b[32m━━━━━━━━━━━━━━━━━━━━\u001b[0m\u001b[37m\u001b[0m \u001b[1m19s\u001b[0m 2ms/step - loss: 1232.7035 - mean_absolute_error: 27.5546 - val_loss: 1271.2166 - val_mean_absolute_error: 28.0168\n",
      "Epoch 53/100\n",
      "\u001b[1m7822/7822\u001b[0m \u001b[32m━━━━━━━━━━━━━━━━━━━━\u001b[0m\u001b[37m\u001b[0m \u001b[1m16s\u001b[0m 2ms/step - loss: 1256.2421 - mean_absolute_error: 27.7290 - val_loss: 1294.2051 - val_mean_absolute_error: 28.2534\n",
      "Epoch 54/100\n",
      "\u001b[1m7822/7822\u001b[0m \u001b[32m━━━━━━━━━━━━━━━━━━━━\u001b[0m\u001b[37m\u001b[0m \u001b[1m19s\u001b[0m 2ms/step - loss: 1239.1731 - mean_absolute_error: 27.5823 - val_loss: 1266.9968 - val_mean_absolute_error: 27.9662\n",
      "Epoch 55/100\n",
      "\u001b[1m7822/7822\u001b[0m \u001b[32m━━━━━━━━━━━━━━━━━━━━\u001b[0m\u001b[37m\u001b[0m \u001b[1m17s\u001b[0m 2ms/step - loss: 1245.3239 - mean_absolute_error: 27.6535 - val_loss: 1268.2655 - val_mean_absolute_error: 27.9698\n",
      "Epoch 56/100\n",
      "\u001b[1m7822/7822\u001b[0m \u001b[32m━━━━━━━━━━━━━━━━━━━━\u001b[0m\u001b[37m\u001b[0m \u001b[1m17s\u001b[0m 2ms/step - loss: 1239.4323 - mean_absolute_error: 27.6208 - val_loss: 1271.9166 - val_mean_absolute_error: 28.0109\n",
      "Epoch 57/100\n",
      "\u001b[1m7822/7822\u001b[0m \u001b[32m━━━━━━━━━━━━━━━━━━━━\u001b[0m\u001b[37m\u001b[0m \u001b[1m16s\u001b[0m 2ms/step - loss: 1229.4062 - mean_absolute_error: 27.4495 - val_loss: 1271.6467 - val_mean_absolute_error: 28.0174\n",
      "Epoch 58/100\n",
      "\u001b[1m7822/7822\u001b[0m \u001b[32m━━━━━━━━━━━━━━━━━━━━\u001b[0m\u001b[37m\u001b[0m \u001b[1m16s\u001b[0m 2ms/step - loss: 1236.8826 - mean_absolute_error: 27.5954 - val_loss: 1271.0037 - val_mean_absolute_error: 28.0222\n",
      "Epoch 59/100\n",
      "\u001b[1m7822/7822\u001b[0m \u001b[32m━━━━━━━━━━━━━━━━━━━━\u001b[0m\u001b[37m\u001b[0m \u001b[1m18s\u001b[0m 2ms/step - loss: 1240.6003 - mean_absolute_error: 27.5948 - val_loss: 1273.1619 - val_mean_absolute_error: 28.0231\n",
      "Epoch 60/100\n",
      "\u001b[1m7822/7822\u001b[0m \u001b[32m━━━━━━━━━━━━━━━━━━━━\u001b[0m\u001b[37m\u001b[0m \u001b[1m19s\u001b[0m 2ms/step - loss: 1239.7324 - mean_absolute_error: 27.6237 - val_loss: 1293.9890 - val_mean_absolute_error: 28.2445\n",
      "Epoch 61/100\n",
      "\u001b[1m7822/7822\u001b[0m \u001b[32m━━━━━━━━━━━━━━━━━━━━\u001b[0m\u001b[37m\u001b[0m \u001b[1m19s\u001b[0m 2ms/step - loss: 1233.7235 - mean_absolute_error: 27.5837 - val_loss: 1272.0581 - val_mean_absolute_error: 28.0350\n",
      "Epoch 62/100\n",
      "\u001b[1m7822/7822\u001b[0m \u001b[32m━━━━━━━━━━━━━━━━━━━━\u001b[0m\u001b[37m\u001b[0m \u001b[1m17s\u001b[0m 2ms/step - loss: 1234.6611 - mean_absolute_error: 27.5476 - val_loss: 1270.4749 - val_mean_absolute_error: 28.0195\n",
      "Epoch 63/100\n",
      "\u001b[1m7822/7822\u001b[0m \u001b[32m━━━━━━━━━━━━━━━━━━━━\u001b[0m\u001b[37m\u001b[0m \u001b[1m18s\u001b[0m 2ms/step - loss: 1235.8811 - mean_absolute_error: 27.5274 - val_loss: 1268.7970 - val_mean_absolute_error: 27.9730\n",
      "Epoch 64/100\n",
      "\u001b[1m7822/7822\u001b[0m \u001b[32m━━━━━━━━━━━━━━━━━━━━\u001b[0m\u001b[37m\u001b[0m \u001b[1m17s\u001b[0m 2ms/step - loss: 1234.2581 - mean_absolute_error: 27.4864 - val_loss: 1269.1472 - val_mean_absolute_error: 27.9732\n",
      "Epoch 65/100\n",
      "\u001b[1m7822/7822\u001b[0m \u001b[32m━━━━━━━━━━━━━━━━━━━━\u001b[0m\u001b[37m\u001b[0m \u001b[1m19s\u001b[0m 2ms/step - loss: 1243.0684 - mean_absolute_error: 27.5633 - val_loss: 1270.0820 - val_mean_absolute_error: 27.9744\n",
      "Epoch 66/100\n",
      "\u001b[1m7822/7822\u001b[0m \u001b[32m━━━━━━━━━━━━━━━━━━━━\u001b[0m\u001b[37m\u001b[0m \u001b[1m16s\u001b[0m 2ms/step - loss: 1244.0636 - mean_absolute_error: 27.5890 - val_loss: 1272.3447 - val_mean_absolute_error: 28.0230\n",
      "Epoch 67/100\n",
      "\u001b[1m7822/7822\u001b[0m \u001b[32m━━━━━━━━━━━━━━━━━━━━\u001b[0m\u001b[37m\u001b[0m \u001b[1m19s\u001b[0m 2ms/step - loss: 1228.2698 - mean_absolute_error: 27.4676 - val_loss: 1283.8646 - val_mean_absolute_error: 28.1638\n",
      "Epoch 68/100\n",
      "\u001b[1m7822/7822\u001b[0m \u001b[32m━━━━━━━━━━━━━━━━━━━━\u001b[0m\u001b[37m\u001b[0m \u001b[1m16s\u001b[0m 2ms/step - loss: 1236.4449 - mean_absolute_error: 27.5653 - val_loss: 1270.4113 - val_mean_absolute_error: 28.0190\n",
      "Epoch 69/100\n",
      "\u001b[1m7822/7822\u001b[0m \u001b[32m━━━━━━━━━━━━━━━━━━━━\u001b[0m\u001b[37m\u001b[0m \u001b[1m19s\u001b[0m 2ms/step - loss: 1241.1202 - mean_absolute_error: 27.6215 - val_loss: 1279.2836 - val_mean_absolute_error: 28.0813\n",
      "Epoch 70/100\n",
      "\u001b[1m7822/7822\u001b[0m \u001b[32m━━━━━━━━━━━━━━━━━━━━\u001b[0m\u001b[37m\u001b[0m \u001b[1m16s\u001b[0m 2ms/step - loss: 1239.2466 - mean_absolute_error: 27.5377 - val_loss: 1269.3613 - val_mean_absolute_error: 28.0007\n",
      "Epoch 71/100\n",
      "\u001b[1m7822/7822\u001b[0m \u001b[32m━━━━━━━━━━━━━━━━━━━━\u001b[0m\u001b[37m\u001b[0m \u001b[1m19s\u001b[0m 2ms/step - loss: 1233.1384 - mean_absolute_error: 27.5006 - val_loss: 1264.1382 - val_mean_absolute_error: 27.9237\n",
      "Epoch 72/100\n",
      "\u001b[1m7822/7822\u001b[0m \u001b[32m━━━━━━━━━━━━━━━━━━━━\u001b[0m\u001b[37m\u001b[0m \u001b[1m17s\u001b[0m 2ms/step - loss: 1231.2103 - mean_absolute_error: 27.5219 - val_loss: 1280.1882 - val_mean_absolute_error: 28.1311\n",
      "Epoch 73/100\n",
      "\u001b[1m7822/7822\u001b[0m \u001b[32m━━━━━━━━━━━━━━━━━━━━\u001b[0m\u001b[37m\u001b[0m \u001b[1m16s\u001b[0m 2ms/step - loss: 1245.7814 - mean_absolute_error: 27.5977 - val_loss: 1269.7006 - val_mean_absolute_error: 27.9963\n",
      "Epoch 74/100\n",
      "\u001b[1m7822/7822\u001b[0m \u001b[32m━━━━━━━━━━━━━━━━━━━━\u001b[0m\u001b[37m\u001b[0m \u001b[1m17s\u001b[0m 2ms/step - loss: 1230.3241 - mean_absolute_error: 27.4886 - val_loss: 1270.2969 - val_mean_absolute_error: 27.9887\n",
      "Epoch 75/100\n",
      "\u001b[1m7822/7822\u001b[0m \u001b[32m━━━━━━━━━━━━━━━━━━━━\u001b[0m\u001b[37m\u001b[0m \u001b[1m16s\u001b[0m 2ms/step - loss: 1247.9178 - mean_absolute_error: 27.6698 - val_loss: 1288.9877 - val_mean_absolute_error: 28.2450\n",
      "Epoch 76/100\n",
      "\u001b[1m7822/7822\u001b[0m \u001b[32m━━━━━━━━━━━━━━━━━━━━\u001b[0m\u001b[37m\u001b[0m \u001b[1m18s\u001b[0m 2ms/step - loss: 1241.9111 - mean_absolute_error: 27.6116 - val_loss: 1268.7349 - val_mean_absolute_error: 27.9826\n",
      "Epoch 77/100\n",
      "\u001b[1m7822/7822\u001b[0m \u001b[32m━━━━━━━━━━━━━━━━━━━━\u001b[0m\u001b[37m\u001b[0m \u001b[1m11s\u001b[0m 1ms/step - loss: 1231.1813 - mean_absolute_error: 27.5046 - val_loss: 1270.4208 - val_mean_absolute_error: 28.0091\n",
      "Epoch 78/100\n",
      "\u001b[1m7822/7822\u001b[0m \u001b[32m━━━━━━━━━━━━━━━━━━━━\u001b[0m\u001b[37m\u001b[0m \u001b[1m22s\u001b[0m 2ms/step - loss: 1232.9513 - mean_absolute_error: 27.5436 - val_loss: 1281.0388 - val_mean_absolute_error: 28.0827\n",
      "Epoch 79/100\n",
      "\u001b[1m7822/7822\u001b[0m \u001b[32m━━━━━━━━━━━━━━━━━━━━\u001b[0m\u001b[37m\u001b[0m \u001b[1m11s\u001b[0m 1ms/step - loss: 1242.5999 - mean_absolute_error: 27.5642 - val_loss: 1266.2833 - val_mean_absolute_error: 27.9343\n",
      "Epoch 80/100\n",
      "\u001b[1m7822/7822\u001b[0m \u001b[32m━━━━━━━━━━━━━━━━━━━━\u001b[0m\u001b[37m\u001b[0m \u001b[1m22s\u001b[0m 2ms/step - loss: 1247.4113 - mean_absolute_error: 27.6515 - val_loss: 1282.1454 - val_mean_absolute_error: 28.0919\n",
      "Epoch 81/100\n",
      "\u001b[1m7822/7822\u001b[0m \u001b[32m━━━━━━━━━━━━━━━━━━━━\u001b[0m\u001b[37m\u001b[0m \u001b[1m12s\u001b[0m 1ms/step - loss: 1235.8531 - mean_absolute_error: 27.5237 - val_loss: 1270.1392 - val_mean_absolute_error: 27.9942\n",
      "Epoch 82/100\n",
      "\u001b[1m7822/7822\u001b[0m \u001b[32m━━━━━━━━━━━━━━━━━━━━\u001b[0m\u001b[37m\u001b[0m \u001b[1m13s\u001b[0m 2ms/step - loss: 1231.2076 - mean_absolute_error: 27.4949 - val_loss: 1273.0394 - val_mean_absolute_error: 28.0113\n",
      "Epoch 83/100\n",
      "\u001b[1m7822/7822\u001b[0m \u001b[32m━━━━━━━━━━━━━━━━━━━━\u001b[0m\u001b[37m\u001b[0m \u001b[1m13s\u001b[0m 2ms/step - loss: 1225.0581 - mean_absolute_error: 27.3932 - val_loss: 1270.8617 - val_mean_absolute_error: 28.0153\n",
      "Epoch 84/100\n",
      "\u001b[1m7822/7822\u001b[0m \u001b[32m━━━━━━━━━━━━━━━━━━━━\u001b[0m\u001b[37m\u001b[0m \u001b[1m11s\u001b[0m 1ms/step - loss: 1235.7367 - mean_absolute_error: 27.4538 - val_loss: 1279.2711 - val_mean_absolute_error: 28.0739\n",
      "Epoch 85/100\n",
      "\u001b[1m7822/7822\u001b[0m \u001b[32m━━━━━━━━━━━━━━━━━━━━\u001b[0m\u001b[37m\u001b[0m \u001b[1m22s\u001b[0m 2ms/step - loss: 1230.6656 - mean_absolute_error: 27.4815 - val_loss: 1267.9253 - val_mean_absolute_error: 27.9711\n",
      "Epoch 86/100\n",
      "\u001b[1m7822/7822\u001b[0m \u001b[32m━━━━━━━━━━━━━━━━━━━━\u001b[0m\u001b[37m\u001b[0m \u001b[1m12s\u001b[0m 2ms/step - loss: 1241.0909 - mean_absolute_error: 27.5941 - val_loss: 1280.2566 - val_mean_absolute_error: 28.0718\n",
      "Epoch 87/100\n",
      "\u001b[1m7822/7822\u001b[0m \u001b[32m━━━━━━━━━━━━━━━━━━━━\u001b[0m\u001b[37m\u001b[0m \u001b[1m11s\u001b[0m 1ms/step - loss: 1232.2828 - mean_absolute_error: 27.4481 - val_loss: 1278.0901 - val_mean_absolute_error: 28.0363\n",
      "Epoch 88/100\n",
      "\u001b[1m7822/7822\u001b[0m \u001b[32m━━━━━━━━━━━━━━━━━━━━\u001b[0m\u001b[37m\u001b[0m \u001b[1m13s\u001b[0m 2ms/step - loss: 1233.7179 - mean_absolute_error: 27.5605 - val_loss: 1270.7550 - val_mean_absolute_error: 28.0066\n",
      "Epoch 89/100\n",
      "\u001b[1m7822/7822\u001b[0m \u001b[32m━━━━━━━━━━━━━━━━━━━━\u001b[0m\u001b[37m\u001b[0m \u001b[1m11s\u001b[0m 1ms/step - loss: 1239.2651 - mean_absolute_error: 27.5745 - val_loss: 1270.7614 - val_mean_absolute_error: 27.9845\n",
      "Epoch 90/100\n",
      "\u001b[1m7822/7822\u001b[0m \u001b[32m━━━━━━━━━━━━━━━━━━━━\u001b[0m\u001b[37m\u001b[0m \u001b[1m12s\u001b[0m 1ms/step - loss: 1239.7209 - mean_absolute_error: 27.5488 - val_loss: 1267.4753 - val_mean_absolute_error: 27.9498\n",
      "Epoch 91/100\n",
      "\u001b[1m7822/7822\u001b[0m \u001b[32m━━━━━━━━━━━━━━━━━━━━\u001b[0m\u001b[37m\u001b[0m \u001b[1m14s\u001b[0m 2ms/step - loss: 1238.5553 - mean_absolute_error: 27.5445 - val_loss: 1263.9034 - val_mean_absolute_error: 27.9204\n",
      "Epoch 92/100\n",
      "\u001b[1m7822/7822\u001b[0m \u001b[32m━━━━━━━━━━━━━━━━━━━━\u001b[0m\u001b[37m\u001b[0m \u001b[1m11s\u001b[0m 1ms/step - loss: 1243.7136 - mean_absolute_error: 27.6504 - val_loss: 1266.7880 - val_mean_absolute_error: 27.9389\n",
      "Epoch 93/100\n",
      "\u001b[1m7822/7822\u001b[0m \u001b[32m━━━━━━━━━━━━━━━━━━━━\u001b[0m\u001b[37m\u001b[0m \u001b[1m21s\u001b[0m 1ms/step - loss: 1234.6014 - mean_absolute_error: 27.5155 - val_loss: 1265.9773 - val_mean_absolute_error: 27.9470\n",
      "Epoch 94/100\n",
      "\u001b[1m7822/7822\u001b[0m \u001b[32m━━━━━━━━━━━━━━━━━━━━\u001b[0m\u001b[37m\u001b[0m \u001b[1m13s\u001b[0m 2ms/step - loss: 1233.4645 - mean_absolute_error: 27.4932 - val_loss: 1262.8027 - val_mean_absolute_error: 27.9007\n",
      "Epoch 95/100\n",
      "\u001b[1m7822/7822\u001b[0m \u001b[32m━━━━━━━━━━━━━━━━━━━━\u001b[0m\u001b[37m\u001b[0m \u001b[1m13s\u001b[0m 2ms/step - loss: 1220.6006 - mean_absolute_error: 27.3868 - val_loss: 1265.3881 - val_mean_absolute_error: 27.9256\n",
      "Epoch 96/100\n",
      "\u001b[1m7822/7822\u001b[0m \u001b[32m━━━━━━━━━━━━━━━━━━━━\u001b[0m\u001b[37m\u001b[0m \u001b[1m13s\u001b[0m 2ms/step - loss: 1231.1489 - mean_absolute_error: 27.4675 - val_loss: 1266.1310 - val_mean_absolute_error: 27.9215\n",
      "Epoch 97/100\n",
      "\u001b[1m7822/7822\u001b[0m \u001b[32m━━━━━━━━━━━━━━━━━━━━\u001b[0m\u001b[37m\u001b[0m \u001b[1m13s\u001b[0m 2ms/step - loss: 1244.0580 - mean_absolute_error: 27.5810 - val_loss: 1267.3936 - val_mean_absolute_error: 27.9562\n",
      "Epoch 98/100\n",
      "\u001b[1m7822/7822\u001b[0m \u001b[32m━━━━━━━━━━━━━━━━━━━━\u001b[0m\u001b[37m\u001b[0m \u001b[1m12s\u001b[0m 2ms/step - loss: 1227.5100 - mean_absolute_error: 27.4714 - val_loss: 1284.1803 - val_mean_absolute_error: 28.1162\n",
      "Epoch 99/100\n",
      "\u001b[1m7822/7822\u001b[0m \u001b[32m━━━━━━━━━━━━━━━━━━━━\u001b[0m\u001b[37m\u001b[0m \u001b[1m19s\u001b[0m 2ms/step - loss: 1223.9860 - mean_absolute_error: 27.3535 - val_loss: 1263.8777 - val_mean_absolute_error: 27.9248\n",
      "Epoch 100/100\n",
      "\u001b[1m7822/7822\u001b[0m \u001b[32m━━━━━━━━━━━━━━━━━━━━\u001b[0m\u001b[37m\u001b[0m \u001b[1m19s\u001b[0m 2ms/step - loss: 1235.0892 - mean_absolute_error: 27.5061 - val_loss: 1268.0989 - val_mean_absolute_error: 27.9478\n",
      "Training completed successfully.\n"
     ]
    }
   ],
   "source": [
    "try:\n",
    "    history = nn_model.fit(X_train, y_train, epochs=100, validation_data=(X_val, y_val), batch_size=10, verbose=1)\n",
    "    print(\"Training completed successfully.\")\n",
    "except Exception as e:\n",
    "    print(\"Error during training:\", e)"
   ]
  },
  {
   "cell_type": "code",
   "execution_count": 20,
   "metadata": {},
   "outputs": [
    {
     "name": "stdout",
     "output_type": "stream",
     "text": [
      "\u001b[1m252/612\u001b[0m \u001b[32m━━━━━━━━\u001b[0m\u001b[37m━━━━━━━━━━━━\u001b[0m \u001b[1m0s\u001b[0m 3ms/step - loss: 1259.5850 - mean_absolute_error: 28.0076"
     ]
    },
    {
     "name": "stdout",
     "output_type": "stream",
     "text": [
      "\u001b[1m612/612\u001b[0m \u001b[32m━━━━━━━━━━━━━━━━━━━━\u001b[0m\u001b[37m\u001b[0m \u001b[1m2s\u001b[0m 3ms/step - loss: 1262.3313 - mean_absolute_error: 27.9376\n",
      "Test Mean Absolute Error: 27.95\n",
      "Test Loss: 1268.10\n"
     ]
    }
   ],
   "source": [
    "# Evaluate the model\n",
    "test_loss, test_mae = nn_model.evaluate(X_val, y_val, verbose=1)\n",
    "print(f\"Test Mean Absolute Error: {test_mae:.2f}\")\n",
    "print(f\"Test Loss: {test_loss:.2f}\")"
   ]
  },
  {
   "cell_type": "markdown",
   "metadata": {},
   "source": [
    "# Saving The Model"
   ]
  },
  {
   "cell_type": "code",
   "execution_count": 31,
   "metadata": {},
   "outputs": [
    {
     "name": "stderr",
     "output_type": "stream",
     "text": [
      "WARNING:absl:You are saving your model as an HDF5 file via `model.save()` or `keras.saving.save_model(model)`. This file format is considered legacy. We recommend using instead the native Keras format, e.g. `model.save('my_model.keras')` or `keras.saving.save_model(model, 'my_model.keras')`. \n"
     ]
    },
    {
     "data": {
      "text/plain": [
       "['model.joblib']"
      ]
     },
     "execution_count": 31,
     "metadata": {},
     "output_type": "execute_result"
    }
   ],
   "source": [
    "import joblib\n",
    "nn_model.save('nn_model.h5')\n",
    "joblib.dump(model, 'model.joblib')"
   ]
  },
  {
   "cell_type": "markdown",
   "metadata": {},
   "source": [
    "# Making Predictions"
   ]
  },
  {
   "cell_type": "code",
   "execution_count": 33,
   "metadata": {},
   "outputs": [
    {
     "name": "stderr",
     "output_type": "stream",
     "text": [
      "WARNING:absl:Compiled the loaded model, but the compiled metrics have yet to be built. `model.compile_metrics` will be empty until you train or evaluate the model.\n"
     ]
    },
    {
     "name": "stdout",
     "output_type": "stream",
     "text": [
      "\u001b[1m1/1\u001b[0m \u001b[32m━━━━━━━━━━━━━━━━━━━━\u001b[0m\u001b[37m\u001b[0m \u001b[1m0s\u001b[0m 137ms/step\n",
      "[[-44.780308]]\n",
      "Red Alliance Will Win, with a probability of 91.69% by 44.78 points\n"
     ]
    }
   ],
   "source": [
    "nn_model = tf.keras.models.load_model('nn_model.h5')\n",
    "model = joblib.load('model.joblib')\n",
    "\n",
    "def predict(red_alliance, blue_alliance):\n",
    "    blue_opr = sum(team_df[team][\"opr\"] for team in blue_alliance)\n",
    "    blue_dpr = sum(team_df[team][\"dpr\"] for team in blue_alliance)\n",
    "    blue_ccwm = sum(team_df[team][\"ccwm\"] for team in blue_alliance)\n",
    "    blue_w_pct = sum(team_df[team][\"w_pct\"] for team in blue_alliance)\n",
    "    blue_ap_per_match = sum(team_df[team][\"ap_per_match\"] for team in blue_alliance)\n",
    "    blue_awp_per_match = sum(team_df[team][\"awp_per_match\"] for team in blue_alliance)\n",
    "    blue_wp_per_match = sum(team_df[team][\"wp_per_match\"] for team in blue_alliance)\n",
    "    blue_trueskill = sum(team_df[team][\"trueskill\"] for team in blue_alliance)\n",
    "\n",
    "    red_opr = sum(team_df[team][\"opr\"] for team in red_alliance)\n",
    "    red_dpr = sum(team_df[team][\"dpr\"] for team in red_alliance)\n",
    "    red_ccwm = sum(team_df[team][\"ccwm\"] for team in red_alliance)\n",
    "    red_w_pct = sum(team_df[team][\"w_pct\"] for team in red_alliance)\n",
    "    red_ap_per_match = sum(team_df[team][\"ap_per_match\"] for team in red_alliance)\n",
    "    red_awp_per_match = sum(team_df[team][\"awp_per_match\"] for team in red_alliance)\n",
    "    red_wp_per_match = sum(team_df[team][\"wp_per_match\"] for team in red_alliance)\n",
    "    red_trueskill = sum(team_df[team][\"trueskill\"] for team in red_alliance)\n",
    "\n",
    "    features = [\n",
    "        blue_opr, blue_dpr, blue_ccwm, blue_w_pct, blue_ap_per_match, blue_awp_per_match, blue_wp_per_match, blue_trueskill,\n",
    "        red_opr, red_dpr, red_ccwm, red_w_pct, red_ap_per_match, red_awp_per_match, red_wp_per_match, red_trueskill\n",
    "    ]\n",
    "\n",
    "    res = model.predict_proba([features])[0][1]\n",
    "    dif = nn_model.predict(np.array(features, dtype=np.float32).reshape(1, -1))\n",
    "    if res > 0.5:\n",
    "        return f\"Blue Alliance Will Win, with a probability of {res*100:.2f}% by {dif[0][0]:.2f} points\"\n",
    "    else:\n",
    "        return f\"Red Alliance Will Win, with a probability of {100*(1-res):.2f}% by {-dif[0][0]:.2f} points\"\n",
    "\n",
    "red = [\"229V\", \"16868K\"]\n",
    "blue = [\"100A\", \"2055X\"]\n",
    "print(predict(red, blue))"
   ]
  },
  {
   "cell_type": "code",
   "execution_count": null,
   "metadata": {},
   "outputs": [],
   "source": []
  },
  {
   "cell_type": "code",
   "execution_count": null,
   "metadata": {},
   "outputs": [],
   "source": []
  }
 ],
 "metadata": {
  "kernelspec": {
   "display_name": "venv",
   "language": "python",
   "name": "python3"
  },
  "language_info": {
   "codemirror_mode": {
    "name": "ipython",
    "version": 3
   },
   "file_extension": ".py",
   "mimetype": "text/x-python",
   "name": "python",
   "nbconvert_exporter": "python",
   "pygments_lexer": "ipython3",
   "version": "3.11.7"
  }
 },
 "nbformat": 4,
 "nbformat_minor": 2
}
